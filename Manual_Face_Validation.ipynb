{
  "nbformat": 4,
  "nbformat_minor": 0,
  "metadata": {
    "colab": {
      "name": "Manual_Face_Validation.ipynb",
      "provenance": [],
      "collapsed_sections": [],
      "authorship_tag": "ABX9TyO7yBx4BFvlw0YjdKR8a27A",
      "include_colab_link": true
    },
    "kernelspec": {
      "name": "python3",
      "display_name": "Python 3"
    },
    "language_info": {
      "name": "python"
    }
  },
  "cells": [
    {
      "cell_type": "markdown",
      "metadata": {
        "id": "view-in-github",
        "colab_type": "text"
      },
      "source": [
        "<a href=\"https://colab.research.google.com/github/hrshah211/Face_And_Mask_Detector/blob/main/Manual_Face_Validation.ipynb\" target=\"_parent\"><img src=\"https://colab.research.google.com/assets/colab-badge.svg\" alt=\"Open In Colab\"/></a>"
      ]
    },
    {
      "cell_type": "markdown",
      "metadata": {
        "id": "HUvCDCa-PcRa"
      },
      "source": [
        "# Validating The uploaded images as part of Data Mining Phase\n"
      ]
    },
    {
      "cell_type": "markdown",
      "metadata": {
        "id": "oGulXqPmPnOS"
      },
      "source": [
        "**Installing Necessary Packages**"
      ]
    },
    {
      "cell_type": "code",
      "metadata": {
        "id": "z0PnbIoW2F_g"
      },
      "source": [
        "!pip install flask-ngrok\n",
        "!pip install PyGithub"
      ],
      "execution_count": null,
      "outputs": []
    },
    {
      "cell_type": "markdown",
      "metadata": {
        "id": "AwXROy7AQsMj"
      },
      "source": [
        "**Importing GitHub**"
      ]
    },
    {
      "cell_type": "code",
      "metadata": {
        "id": "asGPjz1Pq0nX"
      },
      "source": [
        "from github import Github"
      ],
      "execution_count": null,
      "outputs": []
    },
    {
      "cell_type": "markdown",
      "metadata": {
        "id": "yVypvpWZQl94"
      },
      "source": [
        "**Accessing GitHub using the Access Token Provided**"
      ]
    },
    {
      "cell_type": "code",
      "metadata": {
        "id": "N6uPJjXdq8Nj"
      },
      "source": [
        "g = Github(\"<Enter the Github Access Token>\")"
      ],
      "execution_count": null,
      "outputs": []
    },
    {
      "cell_type": "markdown",
      "metadata": {
        "id": "R2EHeZvUQvvP"
      },
      "source": [
        "**Traversing to the Assigned Repository**"
      ]
    },
    {
      "cell_type": "code",
      "metadata": {
        "id": "cHKCEYPUs3Wa"
      },
      "source": [
        "repo = g.get_repo(\"hrshah211/Face_And_Mask_Detector\")"
      ],
      "execution_count": null,
      "outputs": []
    },
    {
      "cell_type": "markdown",
      "metadata": {
        "id": "L51qtlicQ0l9"
      },
      "source": [
        "**Importing the Necessary Modules**"
      ]
    },
    {
      "cell_type": "code",
      "metadata": {
        "id": "LaEkXNqSZzIX"
      },
      "source": [
        "import requests\n",
        "import os.path\n",
        "from os import path\n",
        "from flask import Flask, render_template, request\n",
        "from flask_ngrok import run_with_ngrok"
      ],
      "execution_count": null,
      "outputs": []
    },
    {
      "cell_type": "markdown",
      "metadata": {
        "id": "QwiwA7s7RJc6"
      },
      "source": [
        "**Loading the HTML for Image Validation**"
      ]
    },
    {
      "cell_type": "code",
      "metadata": {
        "id": "Jztgwou1FNOU"
      },
      "source": [
        "ValidateFace_URL = 'https://raw.githubusercontent.com/hrshah211/Face_And_Mask_Detector/main/ValidateFace.html'\n",
        "\n",
        "ValidateFace_HTML = requests.get(ValidateFace_URL)\n",
        "if path.exists('/content/template') == False:\n",
        "  os.mkdir('/content/template')\n",
        "with open('template/ValidateFace.html', 'wb') as file:\n",
        "  file.write(ValidateFace_HTML.content)"
      ],
      "execution_count": null,
      "outputs": []
    },
    {
      "cell_type": "markdown",
      "metadata": {
        "id": "s-H-_j7iRPRA"
      },
      "source": [
        "**Getting the Contents of The Repository Folder**"
      ]
    },
    {
      "cell_type": "code",
      "metadata": {
        "id": "XfkPL24dgvqO"
      },
      "source": [
        "contents = repo.get_contents('/DataSet')\n",
        "files = []\n",
        "for i in contents:\n",
        "  fileName = i.path.split('/')[1]\n",
        "  fileName = fileName.replace(' ','%20')\n",
        "  raw_url = 'https://raw.githubusercontent.com/hrshah211/Face_And_Mask_Detector/main/DataSet/'+fileName\n",
        "  files.append([False,False,raw_url])"
      ],
      "execution_count": null,
      "outputs": []
    },
    {
      "cell_type": "markdown",
      "metadata": {
        "id": "Vn5NeWsDRTi9"
      },
      "source": [
        "**Flask APP and UI for Image Validation**"
      ]
    },
    {
      "cell_type": "code",
      "metadata": {
        "id": "C7wWOAXRRgjo"
      },
      "source": [
        "app = Flask(__name__,template_folder='template')\n",
        "\n",
        "run_with_ngrok(app)\n",
        "\n",
        "@app.route(\"/\",methods=[\"POST\",\"GET\"])\n",
        "def home():\n",
        "  i = 0\n",
        "  while i < len(files):\n",
        "    if files[i][0] == False:\n",
        "      raw_url = files[i][2]\n",
        "      if request.method == \"POST\":\n",
        "        choice = request.form.get(\"choice\")\n",
        "        if choice == 'discard':\n",
        "          files[i][0] = True\n",
        "          files[i][1] = True\n",
        "        else:\n",
        "          files[i][0] = True\n",
        "      if files[i][0] == True:\n",
        "        i = i+1\n",
        "        raw_url = files[i][2]\n",
        "        return render_template('ValidateFace.html', raw_url = raw_url)\n",
        "      return render_template('ValidateFace.html', raw_url = raw_url)\n",
        "    else:\n",
        "      i = i+1\n",
        "      raw_url = files[i][2]\n",
        "      continue\n",
        "app.run()"
      ],
      "execution_count": null,
      "outputs": []
    }
  ]
}